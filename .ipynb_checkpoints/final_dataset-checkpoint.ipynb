{
 "cells": [
  {
   "cell_type": "code",
   "execution_count": 2,
   "id": "9c032967",
   "metadata": {},
   "outputs": [],
   "source": [
    "import numpy as np\n",
    "import matplotlib.pyplot as plt\n",
    "import pandas as pd\n",
    "import torch\n",
    "import torch.nn as nn\n",
    "import torch.nn.functional as F\n",
    "from torchvision import transforms, datasets\n",
    "from sklearn.preprocessing import StandardScaler, LabelEncoder\n",
    "from tensorflow.keras.utils import to_categorical\n",
    "from tensorflow.keras.models import Sequential\n",
    "import seaborn as sns\n",
    "from sklearn.model_selection import train_test_split"
   ]
  },
  {
   "cell_type": "code",
   "execution_count": 12,
   "id": "b14160da",
   "metadata": {},
   "outputs": [],
   "source": [
    "df = pd.read_csv(\"./dataset/players_and_transf.csv\")\n",
    "df = df.drop(columns=['name', 'club','mins', 'yel', 'red', 'ps%', 'aerials_won', 'fouls', 'offsides_won', 'dribbled', 'blocks', 'own_goals', 'fouled',\n",
    "       'offsides', 'dispossed', 'motm','through_passes','bad_controls', 'crosses', 'long_passes', 'league', 'season', 'fee', 'position'])\n",
    "df = df.iloc[1::2]\n",
    "df['apps'] = df['apps'].str.replace(r'\\(.*\\)', '', regex=True).str.strip()\n",
    "df = df.replace('-', 0)\n",
    "df.isnull().sum()\n",
    "df.dropna(inplace=True)\n",
    "\n",
    "# position_map = {\n",
    "#     # FW (공격수)\n",
    "#     'FW': 'FW', 'Forward': 'FW', 'forward': 'FW',\n",
    "\n",
    "#     # MF (미드필더)\n",
    "#     'M(C)': 'MF', 'M(CLR)': 'MF', 'M(CL)': 'MF', 'M(CR)': 'MF',\n",
    "#     'M(L)': 'MF', 'M(R)': 'MF', 'M(LR)': 'MF', 'Midfielder': 'MF',\n",
    "#     'midfielder': 'MF', 'DMC': 'MF',\n",
    "#     'AM(L)': 'MF', 'AM(R)': 'MF', 'AM(C)': 'MF', 'AM(CL)': 'MF',\n",
    "#     'AM(CR)': 'MF', 'AM(CLR)': 'MF', 'AM(LR)': 'MF',\n",
    "\n",
    "#     # DF (수비수)\n",
    "#     'D(C)': 'DF', 'D(CL)': 'DF', 'D(CR)': 'DF', 'D(CLR)': 'DF',\n",
    "#     'D(L)': 'DF', 'D(R)': 'DF', 'D(LR)': 'DF', 'Defender': 'DF',\n",
    "\n",
    "#     # GK (골키퍼)\n",
    "#     'GK': 'GK', 'Goalkeeper': 'GK'\n",
    "# }\n",
    "\n",
    "# 치환\n",
    "# df['position'] = df['position'].map(position_map)\n",
    "# position_to_int = {'FW': 0, 'MF': 1, 'DF': 2, 'GK': 3}\n",
    "# df['position'] = df['position'].map(position_to_int)\n",
    "df = df.apply(pd.to_numeric, errors='coerce')\n",
    "\n",
    "df['club_position'] = 21 - df['club_position']"
   ]
  },
  {
   "cell_type": "code",
   "execution_count": 14,
   "id": "d34bda63",
   "metadata": {},
   "outputs": [],
   "source": [
    "from sklearn.model_selection import train_test_split\n",
    "\n",
    "target_col = 'traded'\n",
    "\n",
    "X = df.drop(columns=[target_col])\n",
    "y = df[target_col]\n",
    "\n",
    "\n",
    "X.to_csv(\"./x.csv\",index=False)\n",
    "y.to_csv(\"./y.csv\",index=False)"
   ]
  },
  {
   "cell_type": "code",
   "execution_count": null,
   "id": "4f93bf63",
   "metadata": {},
   "outputs": [],
   "source": [
    "# # 3. test (10%) 먼저 분리\n",
    "# x_temp, x_test, y_temp, y_test = train_test_split(\n",
    "#     X, y, test_size=0.1, random_state=42, stratify=y\n",
    "# )\n",
    "\n",
    "# # 4. 나머지 90%에서 validation (10%) 분리 → 전체의 10% = 0.1111 ≈ 1/9\n",
    "# x_train, x_val, y_train, y_val = train_test_split(\n",
    "#     x_temp, y_temp, test_size=0.1111, random_state=42, stratify=y_temp\n",
    "# )\n"
   ]
  }
 ],
 "metadata": {
  "kernelspec": {
   "display_name": "Python 3 (ipykernel)",
   "language": "python",
   "name": "python3"
  },
  "language_info": {
   "codemirror_mode": {
    "name": "ipython",
    "version": 3
   },
   "file_extension": ".py",
   "mimetype": "text/x-python",
   "name": "python",
   "nbconvert_exporter": "python",
   "pygments_lexer": "ipython3",
   "version": "3.8.12"
  }
 },
 "nbformat": 4,
 "nbformat_minor": 5
}
